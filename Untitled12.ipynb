{
  "nbformat": 4,
  "nbformat_minor": 0,
  "metadata": {
    "colab": {
      "name": "Untitled12.ipynb",
      "provenance": [],
      "authorship_tag": "ABX9TyNVUVaa3zdNoSJRnQz2y7lQ",
      "include_colab_link": true
    },
    "kernelspec": {
      "name": "python3",
      "display_name": "Python 3"
    },
    "language_info": {
      "name": "python"
    }
  },
  "cells": [
    {
      "cell_type": "markdown",
      "metadata": {
        "id": "view-in-github",
        "colab_type": "text"
      },
      "source": [
        "<a href=\"https://colab.research.google.com/github/PoojaAnchewar/verzeo-phython-machine-learning/blob/main/Untitled12.ipynb\" target=\"_parent\"><img src=\"https://colab.research.google.com/assets/colab-badge.svg\" alt=\"Open In Colab\"/></a>"
      ]
    },
    {
      "cell_type": "code",
      "metadata": {
        "id": "NY6IkNevwFET"
      },
      "source": [
        " \n",
        "import pandas as pd\n",
        "diamonds = pd.read_csv('https://raw.githubusercontent.com/mwaskom/seaborn-data/master/diamonds.csv')\n",
        "print(\"Original Dataframe:\")\n",
        "print(diamonds.head())\n",
        "print(\"\\nSeries sorted by its values:\")\n",
        "print(diamonds.cut.value_counts().sort_values())\n",
        "print(\"\\nSeries sorted by its index:\")\n",
        "print(diamonds.cut.value_counts().sort_index())"
      ],
      "execution_count": null,
      "outputs": []
    },
    {
      "cell_type": "code",
      "metadata": {
        "id": "Y1DD9wXpwbW6"
      },
      "source": [
        " \n",
        "print(\"Original Dataframe:\")\n",
        "print(diamonds.head())\n",
        "print(\"\\nMultiply of length, width and depth for each cut:\")\n",
        "print((diamonds.x*diamonds.y*diamonds.z).head())"
      ],
      "execution_count": null,
      "outputs": []
    },
    {
      "cell_type": "code",
      "metadata": {
        "id": "rHC8XoTIweWl"
      },
      "source": [
        " \n",
        "print(\"Original Dataframe:\")\n",
        "print(diamonds.head())\n",
        "print(\"\\nConcatenate the 'diamonds' DataFrame with the 'color' Series:\")\n",
        "print(pd.concat([diamonds, diamonds.color], axis=1).head())"
      ],
      "execution_count": null,
      "outputs": []
    },
    {
      "cell_type": "code",
      "metadata": {
        "id": "SzZX85IdwnwV"
      },
      "source": [
        " \n",
        "print(\"First 7 rows:\")\n",
        "print(diamonds.head(7))\n",
        "print(\"\\nAll columns:\")\n",
        "print(diamonds.loc[0, :])"
      ],
      "execution_count": null,
      "outputs": []
    },
    {
      "cell_type": "code",
      "metadata": {
        "id": "9Bh-88x2xJ_o"
      },
      "source": [
        "\n",
        "print(\"Original Dataframe:\")\n",
        "print(diamonds.head())\n",
        "print(\"\\nRows 0, 5, 7 and all columns:\")\n",
        "print(diamonds.loc[[0, 1, 2], :])"
      ],
      "execution_count": null,
      "outputs": []
    },
    {
      "cell_type": "code",
      "metadata": {
        "id": "GuDA-RM5xM0z"
      },
      "source": [
        "\n",
        "print(\"Original Dataframe:\")\n",
        "print(diamonds.head())\n",
        "print(\"\\nRows 2 through 5 and all columns :\")\n",
        "print(diamonds.loc[0:2, :])"
      ],
      "execution_count": null,
      "outputs": []
    },
    {
      "cell_type": "code",
      "metadata": {
        "id": "7CgtpsDuxfeZ"
      },
      "source": [
        "\n",
        "print(\"Original Dataframe:\")\n",
        "print(diamonds.head())\n",
        "print(\"\\nRows 0 through 2 (inclusive), columns ‘color’ and ‘price’:\")\n",
        "print(diamonds.loc[0:2, 'color':'price'])"
      ],
      "execution_count": null,
      "outputs": []
    },
    {
      "cell_type": "code",
      "metadata": {
        "id": "-0TzSDT2yDZ6"
      },
      "source": [
        " \n",
        "print(\"Original Dataframe:\")\n",
        "print(diamonds.head())\n",
        "print(\"\\nRows 0 through 2 (inclusive), columns ‘color’ and ‘price’:\")\n",
        "print(diamonds.loc[0:2, 'color':'price'])"
      ],
      "execution_count": null,
      "outputs": []
    },
    {
      "cell_type": "code",
      "metadata": {
        "id": "KQHysLI_yZil"
      },
      "source": [
        "\n",
        "print(\"Original Dataframe:\")\n",
        "print(diamonds.head())\n",
        "print(\"\\nRows in which the ‘cut’  is ‘Premium’, column ‘color’:\")\n",
        "print(diamonds.loc[diamonds.cut=='Premium', 'color'])"
      ],
      "execution_count": null,
      "outputs": []
    },
    {
      "cell_type": "code",
      "metadata": {
        "id": "XhM9RdWRykfz"
      },
      "source": [
        " \n",
        "print(\"Original Dataframe:\")\n",
        "print(diamonds.head())\n",
        "print(\"\\nRows in positions 0 and 1, columns in positions 0 and 3 :\")\n",
        "print(diamonds.iloc[[0, 1], [0, 3]])"
      ],
      "execution_count": null,
      "outputs": []
    },
    {
      "cell_type": "code",
      "metadata": {
        "id": "8wZ_xhjIyt4N"
      },
      "source": [
        " \n",
        "print(\"Original Dataframe:\")\n",
        "print(diamonds.head())\n",
        "print(\"\\nRows in positions 0 through 4, columns in positions 1 through 4:\")\n",
        "print(diamonds.iloc[0:4, 1:4])"
      ],
      "execution_count": null,
      "outputs": []
    },
    {
      "cell_type": "code",
      "metadata": {
        "id": "GLTPVeV4zKcs"
      },
      "source": [
        "\n",
        "print(\"Original Dataframe:\")\n",
        "print(diamonds.head())\n",
        "print(\"\\nRows in positions 0 through 4 (exclusive) and all columns :\")\n",
        "print(diamonds.iloc[0:5, :])"
      ],
      "execution_count": null,
      "outputs": []
    },
    {
      "cell_type": "code",
      "metadata": {
        "id": "OtMyAh7IzVT-"
      },
      "source": [
        " \n",
        " \n",
        "print(\"Original Dataframe:\")\n",
        "print(diamonds.head())\n",
        "print(\"\\nRows 2 through 5 (inclusive), columns in positions 0 through 2 (exclusive):\")\n",
        "print(diamonds.iloc[2:5, 0:2])"
      ],
      "execution_count": null,
      "outputs": []
    },
    {
      "cell_type": "code",
      "metadata": {
        "id": "i5yR09Paze2u"
      },
      "source": [
        " \n",
        "print(\"Original Dataframe:\")\n",
        "print(diamonds.head())\n",
        "print(\"\\nConcise summary of diamonds DataFrame:\")\n",
        "print(diamonds.info())"
      ],
      "execution_count": null,
      "outputs": []
    },
    {
      "cell_type": "code",
      "metadata": {
        "id": "Q3WTIu90zp1K"
      },
      "source": [
        " \n",
        "print(\"Original Dataframe:\")\n",
        "print(diamonds.head())\n",
        "print(\"\\nTrue memory usage by diamonds DataFrame:\")\n",
        "print(diamonds.info(memory_usage='deep'))"
      ],
      "execution_count": null,
      "outputs": []
    },
    {
      "cell_type": "code",
      "metadata": {
        "id": "oVds9aVzzzTm"
      },
      "source": [
        "\n",
        "print(\"Original Dataframe:\")\n",
        "print(diamonds.head())\n",
        "print(\"\\nMemory usage for each Series (in bytes) of diamonds DataFrame:\")\n",
        "print(diamonds.memory_usage(deep=True))"
      ],
      "execution_count": null,
      "outputs": []
    },
    {
      "cell_type": "code",
      "metadata": {
        "id": "iGIbcJtkz_h-"
      },
      "source": [
        "\n",
        "print(\"Original Dataframe:\")\n",
        "print(diamonds.head())\n",
        "print(\"\\nSample 5 rows from the DataFrame without replacement:\")\n",
        "print(diamonds.sample(n=3))"
      ],
      "execution_count": null,
      "outputs": []
    },
    {
      "cell_type": "code",
      "metadata": {
        "id": "Odg6nonF0IiZ"
      },
      "source": [
        "\n",
        "print(\"Original Dataframe:\")\n",
        "print(diamonds.shape)\n",
        "print(\"\\nSample 75% of diamonds DataFrame's rows without replacement:\")\n",
        "result = diamonds.sample(frac=0.75, random_state=99)\n",
        "print(result)\n",
        "print(\"\\nRemaining 25% of the rows:\")\n",
        "print(diamonds.loc[~diamonds.index.isin(result.index), :])"
      ],
      "execution_count": null,
      "outputs": []
    },
    {
      "cell_type": "code",
      "metadata": {
        "id": "x7QA85hl0aUr"
      },
      "source": [
        "\n",
        "print(\"Original Dataframe:\")\n",
        "print(diamonds.shape)\n",
        "print(\"\\nCount the duplicate items:\")\n",
        "print(diamonds.clarity.duplicated().sum())"
      ],
      "execution_count": null,
      "outputs": []
    },
    {
      "cell_type": "code",
      "metadata": {
        "id": "9361w4yN09zi"
      },
      "source": [
        " \n",
        "print(\"Original Dataframe:\")\n",
        "print(diamonds.shape)\n",
        "print(\"\\nDuplicate rows of diamonds DataFrame:\")\n",
        "print(diamonds.duplicated().sum())"
      ],
      "execution_count": null,
      "outputs": []
    }
  ]
}